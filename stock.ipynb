{
 "cells": [
  {
   "cell_type": "code",
   "execution_count": 1,
   "metadata": {},
   "outputs": [],
   "source": [
    "import optuna\n",
    "import numpy as np\n",
    "# Turn off optuna logging\n",
    "optuna.logging.set_verbosity(optuna.logging.WARNING)\n",
    "# Self-defined modules\n",
    "from config import *"
   ]
  },
  {
   "cell_type": "markdown",
   "metadata": {},
   "source": [
    "# Estimate how much profit we can make if we buy stocks."
   ]
  },
  {
   "cell_type": "code",
   "execution_count": 2,
   "metadata": {},
   "outputs": [
    {
     "name": "stdout",
     "output_type": "stream",
     "text": [
      "[[12320.  3306.  9015. 30050.]\n",
      " [12341.  3311.  9030. 30100.]\n",
      " [12362.  3317.  9045. 30150.]\n",
      " [12382.  3322.  9060. 30201.]\n",
      " [12403.  3328.  9075. 30251.]\n",
      " [12424.  3333.  9090. 30301.]\n",
      " [12444.  3339.  9106. 30352.]\n",
      " [12465.  3344.  9121. 30402.]\n",
      " [12486.  3350.  9136. 30453.]\n",
      " [12507.  3355.  9151. 30504.]]\n"
     ]
    }
   ],
   "source": [
    "# Our budget including 1) The monthly house loan and 2) The monthly bill on house maintenance.\n",
    "house_loan_monthly = 54166\n",
    "bill_history = np.loadtxt('./bills.txt')\n",
    "# Print for debug\n",
    "print(bill_history[:10])\n",
    "maintenance_history = bill_history[:,1]\n",
    "tax_history = bill_history[:,2]\n",
    "house_rent_history = bill_history[:,3]"
   ]
  },
  {
   "cell_type": "code",
   "execution_count": 28,
   "metadata": {},
   "outputs": [],
   "source": [
    "def advance():\n",
    "    ans = cash\n",
    "    net_worth_history = np.zeros((num_month, 2))\n",
    "    for i in range(num_month):\n",
    "        increment = house_loan_monthly + maintenance_history[i] + tax_history[i] - house_rent_history[i]\n",
    "        ans += increment\n",
    "        #tmp_ans = ans\n",
    "        ans *= (1 + stock_inflation/12)\n",
    "        #print(\"Before: \", tmp_ans, \"After: \", ans)\n",
    "        net_worth_history[i, 0] = ans\n",
    "        net_worth_history[i, 1] = increment\n",
    "    np.savetxt('./stock_net_worth.txt', net_worth_history, fmt='%d', header='Net worth of stock investment, increment', delimiter='\\t')\n",
    "    return ans"
   ]
  },
  {
   "cell_type": "code",
   "execution_count": 29,
   "metadata": {},
   "outputs": [
    {
     "name": "stdout",
     "output_type": "stream",
     "text": [
      "Cash:  3600000.0\n",
      "Total cost:  37906159.0\n",
      "Total investment:  14363979.0\n",
      "Net worth:  53905713.28519675\n"
     ]
    }
   ],
   "source": [
    "print(\"Cash: \", cash)\n",
    "total_cost = np.sum(house_rent_history) + house_loan_monthly * num_month + cash\n",
    "print(\"Total cost: \", total_cost)\n",
    "total_investment = house_loan_monthly * num_month + cash - np.sum(house_rent_history - maintenance_history - tax_history)\n",
    "print(\"Total investment: \", total_investment)\n",
    "net_worth = advance()\n",
    "print(\"Net worth: \", net_worth)"
   ]
  },
  {
   "cell_type": "code",
   "execution_count": null,
   "metadata": {},
   "outputs": [],
   "source": []
  }
 ],
 "metadata": {
  "kernelspec": {
   "display_name": "stock",
   "language": "python",
   "name": "python3"
  },
  "language_info": {
   "codemirror_mode": {
    "name": "ipython",
    "version": 3
   },
   "file_extension": ".py",
   "mimetype": "text/x-python",
   "name": "python",
   "nbconvert_exporter": "python",
   "pygments_lexer": "ipython3",
   "version": "3.10.13"
  }
 },
 "nbformat": 4,
 "nbformat_minor": 2
}
