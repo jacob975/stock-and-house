{
 "cells": [
  {
   "cell_type": "code",
   "execution_count": 1,
   "metadata": {},
   "outputs": [],
   "source": [
    "import optuna\n",
    "import numpy as np\n",
    "# Turn off optuna logging\n",
    "optuna.logging.set_verbosity(optuna.logging.WARNING)\n",
    "# Self-defined modules\n",
    "from config import *"
   ]
  },
  {
   "cell_type": "markdown",
   "metadata": {},
   "source": [
    "# Loan"
   ]
  },
  {
   "cell_type": "code",
   "execution_count": 2,
   "metadata": {},
   "outputs": [],
   "source": [
    "def objective(trial):\n",
    "    residual = loan\n",
    "    x = trial.suggest_float('x', 0, 1e6)\n",
    "    for d in range(num_month):    \n",
    "        residual = residual - x + residual * rate / 12\n",
    "    return abs(residual)"
   ]
  },
  {
   "cell_type": "code",
   "execution_count": 6,
   "metadata": {},
   "outputs": [
    {
     "name": "stdout",
     "output_type": "stream",
     "text": [
      "{'x': 54327.479921546714}\n",
      "7900.974746351711\n"
     ]
    }
   ],
   "source": [
    "# Run\n",
    "study = optuna.create_study()\n",
    "study.optimize(objective, n_trials=1000)\n",
    "print(study.best_params)\n",
    "print(study.best_value)"
   ]
  },
  {
   "cell_type": "markdown",
   "metadata": {},
   "source": [
    "# Maintanance"
   ]
  },
  {
   "cell_type": "code",
   "execution_count": 4,
   "metadata": {},
   "outputs": [
    {
     "name": "stdout",
     "output_type": "stream",
     "text": [
      "6060522.266766507\n"
     ]
    }
   ],
   "source": [
    "# 1. We need to pay 3300 for maintenance per month\n",
    "# 2. We need th pay tax for the house by 0.6% of the house price per year\n",
    "def getHouseBill(maintenance, num_month, house_price=house_price, house_rent=house_rent, cpi_inflation=cpi_inflation):\n",
    "    ans = 0\n",
    "    rollout_maintenance = maintenance\n",
    "    tax = 0.006 * house_price / 12\n",
    "    rollout_tax = tax\n",
    "    rollout_house_rent = house_rent\n",
    "    bill_history = np.zeros((num_month, 4))\n",
    "    for i in range(num_month):\n",
    "        ans += rollout_maintenance + rollout_tax\n",
    "        rollout_maintenance *= (1 + cpi_inflation/12)\n",
    "        rollout_tax *= (1 + cpi_inflation/12)\n",
    "        rollout_house_rent = rollout_house_rent * (1 + cpi_inflation/12)\n",
    "        #print(f\"The bill this month is: {ans:.0f} The maintenance is: {rollout_maintenance:.0f} The tax is: {rollout_tax:.0f}\")\n",
    "        bill_history[i, 0] = rollout_maintenance\n",
    "        bill_history[i, 1] = rollout_tax\n",
    "        bill_history[i, 2] = rollout_house_rent\n",
    "    # Save the bills as a table\n",
    "    np.savetxt('./bills.txt', bill_history, fmt='%.0f', delimiter='\\t', header='Maintenance, Tax, HouseRent')\n",
    "    return ans\n",
    "main_tax_30y = getHouseBill(management_cost, num_month)\n",
    "print(main_tax_30y)\n"
   ]
  },
  {
   "cell_type": "code",
   "execution_count": 14,
   "metadata": {},
   "outputs": [
    {
     "name": "stdout",
     "output_type": "stream",
     "text": [
      "House price:  18000000.0\n",
      "Cash:  3600000.0\n",
      "Total cost:  37906159.0\n",
      "Total loan:  19499760\n",
      "Net Worth with decay:  28979023.265623987\n",
      "Net Worth without decay:  43690724.48141392\n"
     ]
    }
   ],
   "source": [
    "print(\"House price: \", house_price)\n",
    "print(\"Cash: \", cash)\n",
    "bill_history = np.loadtxt('./bills.txt', delimiter='\\t', skiprows=1)\n",
    "house_rent_history = bill_history[:, 2]\n",
    "house_loan_monthly = 54166\n",
    "total_cost =  np.sum(house_rent_history) + house_loan_monthly * num_month + cash\n",
    "print(\"Total cost: \", total_cost)\n",
    "total_loan = house_loan_monthly*num_month\n",
    "print(\"Total loan: \", total_loan)\n",
    "net_worth = house_price*((1+house_infaltion-decay_rate)**30)\n",
    "print(\"Net Worth with decay: \", net_worth)\n",
    "net_worth = house_price*((1+house_infaltion)**30)\n",
    "print(\"Net Worth without decay: \", net_worth)\n"
   ]
  },
  {
   "cell_type": "code",
   "execution_count": null,
   "metadata": {},
   "outputs": [],
   "source": []
  }
 ],
 "metadata": {
  "kernelspec": {
   "display_name": "stock",
   "language": "python",
   "name": "python3"
  },
  "language_info": {
   "codemirror_mode": {
    "name": "ipython",
    "version": 3
   },
   "file_extension": ".py",
   "mimetype": "text/x-python",
   "name": "python",
   "nbconvert_exporter": "python",
   "pygments_lexer": "ipython3",
   "version": "3.10.13"
  }
 },
 "nbformat": 4,
 "nbformat_minor": 2
}
